{
 "cells": [
  {
   "cell_type": "markdown",
   "metadata": {},
   "source": [
    "# Python Crib Sheet - Coding Log\n",
    "\n",
    "##### Compiled by R Krantz\n",
    "[From:  Kinder, Jesse M.; Nelson, Philip (2015-07-01). A Student's Guide to Python for Physical Modeling. Princeton University Press. Kindle Edition.]\n",
    "\n",
    "## Formatting with < % >:  \n",
    "\n",
    "**s(string), f(floating point), d(decimal)**"
   ]
  },
  {
   "cell_type": "code",
   "execution_count": null,
   "metadata": {
    "collapsed": false
   },
   "outputs": [],
   "source": [
    "import numpy as np\n",
    "\"The value of %s is approximately %.5f\" %('pi',np.pi)"
   ]
  },
  {
   "cell_type": "code",
   "execution_count": null,
   "metadata": {
    "collapsed": false
   },
   "outputs": [],
   "source": [
    "s = \"%d plus %d is %d\"\n",
    "s%(2,4,2+4)"
   ]
  },
  {
   "cell_type": "markdown",
   "metadata": {},
   "source": [
    "## Loops with < for >:  \n",
    "**Blocks of code are defined only by their indentation.  And nothing else!**\n",
    "\n",
    "**Don't forget : (colon) at the end of the first line (automatic indent afterwards).**\n",
    "\n",
    "1. Identation consists of blank spaces or tabs\n",
    "2. Indentation must be consistent within a block. **For example, you cannot use four spaces on one line and a single tab on the next; even if the tab appears to indent the block by four spaces!**\n",
    "3. The indentaiton level must increase whwen starting a new block and go back to the previous level when that block ends"
   ]
  },
  {
   "cell_type": "markdown",
   "metadata": {},
   "source": [
    "## < factorial >:  from scipy.misc import factorial\n",
    "**First, import scipy**"
   ]
  },
  {
   "cell_type": "code",
   "execution_count": null,
   "metadata": {
    "collapsed": false
   },
   "outputs": [],
   "source": [
    "import scipy as sci\n",
    "from scipy.misc import factorial as fac\n",
    "fac(10)"
   ]
  },
  {
   "cell_type": "markdown",
   "metadata": {},
   "source": [
    "## NOT EQUAL TO:  A != B; GREATER THAN:  A > B;  LESS THAN:  A < B; EQUAL TO: A == B\n",
    "**etc.**"
   ]
  },
  {
   "cell_type": "code",
   "execution_count": null,
   "metadata": {
    "collapsed": false
   },
   "outputs": [],
   "source": [
    "A,B = 4,7\n",
    "A!=B, A>B, A<B,A==B, A>=B, A<=B"
   ]
  },
  {
   "cell_type": "markdown",
   "metadata": {},
   "source": [
    "## range (Used in *for* loops)"
   ]
  },
  {
   "cell_type": "code",
   "execution_count": null,
   "metadata": {
    "collapsed": false
   },
   "outputs": [],
   "source": [
    "import numpy as np\n",
    "rows = 3\n",
    "columns = 4\n",
    "A = np.zeros((rows,columns))\n",
    "for i in range(rows):\n",
    "    for k in range (columns):\n",
    "        A[i,k]=i**2 + k**3\n",
    "A"
   ]
  },
  {
   "cell_type": "markdown",
   "metadata": {},
   "source": [
    "## Loading Data Files\n",
    "Make sure data file is in working directory!"
   ]
  },
  {
   "cell_type": "code",
   "execution_count": null,
   "metadata": {
    "collapsed": false
   },
   "outputs": [],
   "source": [
    "import numpy as np\n",
    "data_set=np.loadtxt(\"HIVseries.csv\",delimiter=',')\n",
    "data_set"
   ]
  },
  {
   "cell_type": "markdown",
   "metadata": {
    "collapsed": true
   },
   "source": [
    "## Saving/Viewing Data Files"
   ]
  },
  {
   "cell_type": "code",
   "execution_count": null,
   "metadata": {
    "collapsed": false
   },
   "outputs": [],
   "source": [
    "import numpy as np\n",
    "data_set=np.loadtxt(\"HIVseries.csv\",delimiter=',')\n",
    "np.savetxt('x_values.dat',data_set[:,0])\n",
    "np.loadtxt(\"x_values.dat\")"
   ]
  },
  {
   "cell_type": "markdown",
   "metadata": {},
   "source": [
    "## Writing Directly to a File:\n",
    "\n",
    "NOTE: \n",
    "1.  You must open a file before writing to it: my_file=open('file.txt','w'). (The 'w' option means this file will be opened for writing. This erases any existing file of the same name without any warning or request for confirmation.)\n",
    "2.  You must explicitly tell Python where you want a line to start and end. The character '\\n' inserts a new line wherever it occurs in a string. (The escape sequence '\\t' inserts a tab.)\n",
    "3.  When you are done writing, you should close a file with the command my_file.close().\n"
   ]
  },
  {
   "cell_type": "code",
   "execution_count": null,
   "metadata": {
    "collapsed": false
   },
   "outputs": [],
   "source": [
    "import numpy as np\n",
    "my_file = open('power.txt','w')         \n",
    "print (\"N\\t\\t2**N\\t\\t3**N\")               #Print labels for columns\n",
    "print(\"---\\t\\t----\\t\\t----\")              #Print separator\n",
    "my_file.write(\"N\\t\\t2**N\\t\\t3**N\\n\")      #Write labels to file\n",
    "my_file.write(\"---\\t\\t----\\t\\t----\\n\")    #Write separator to file\n",
    "#%% Loop over intergers from 0 to 10 and print/write results.\n",
    "for N in range(11):\n",
    "    print(\"{:d}\\t\\t{:d}\\t\\t{:d}\".format(N,pow(2,N),pow(3,N)))\n",
    "    my_file.write(\"{:d}\\t\\t{:d}\\t\\t{:d}\\n\".format(N,pow(2,N),pow(3,N)))\n",
    "my_file.close()"
   ]
  },
  {
   "cell_type": "markdown",
   "metadata": {},
   "source": [
    "## Visualizing Data:"
   ]
  },
  {
   "cell_type": "code",
   "execution_count": null,
   "metadata": {
    "collapsed": false
   },
   "outputs": [],
   "source": [
    "import numpy as np\n",
    "import matplotlib.pyplot as plt\n",
    "%matplotlib inline\n",
    "# SIMPLE_PLOT.PY\n",
    "num_points = 10\n",
    "x_min,x_max=0,10\n",
    "x_values=np.linspace(x_min,x_max,num_points);y_values=x_values**2\n",
    "plt.plot(x_values,y_values,'b--o')\n",
    "    #'b--o' means: b (blue); -- (dashed line); o (circles at data point)\n",
    "    #Other plot types:\n",
    "    #plt.scatter(x_values,y_values)\n",
    "    #plt.loglog(x_values,y_values)\n",
    "    #plt.semilogy(x_values,y_values)\n",
    "plt.axis('tight')\t\t#minimize space around plot\n",
    "plt.title(\"My First Plot\", size=24)\n",
    "plt.xlabel('Speed $\\\\mu$m/s')\n",
    "plt.ylabel('Kinetic Energy') "
   ]
  },
  {
   "cell_type": "markdown",
   "metadata": {},
   "source": [
    "## Defining Functions:"
   ]
  },
  {
   "cell_type": "code",
   "execution_count": null,
   "metadata": {
    "collapsed": false
   },
   "outputs": [],
   "source": [
    "def  taxicab(pointA, pointB):\n",
    "    \"\"\"\n",
    "    Taxicab metric for computing distance between points A and B. pointA = (x1, y1)\n",
    "    pointB = (x2, y2) Returns |x2-x1| + |y2-y1|. Distances are measured in city blocks. \n",
    "    \"\"\" \n",
    "    interval = abs(pointB[0] - pointA[0]) + abs(pointB[1] - pointA[1]) \n",
    "    return interval\n",
    "start = (3,5); stop = (14,2)\n",
    "taxicab(start,stop)"
   ]
  },
  {
   "cell_type": "markdown",
   "metadata": {},
   "source": [
    "#### Example 1:\n",
    "Options:  Arguments, Keywords, and Defaults"
   ]
  },
  {
   "cell_type": "code",
   "execution_count": null,
   "metadata": {
    "collapsed": false
   },
   "outputs": [],
   "source": [
    "import numpy as np\n",
    "# ---------------------------------------------------------------\n",
    "def distance(pointA, pointB=(0,0), metric = 'taxi'):\n",
    "    \"\"\"\n",
    "    Return distance in city blocks between points A and B.\n",
    "    If metric is 'taxi' (or omitted), use taxicab metric.\n",
    "        pointA = (x1, y1)\n",
    "        pointB = (x2, y2)\n",
    "    If pointB is omitted, use the origin.\n",
    "    If metric is NOT 'taxi' (or omitted), use distance:\n",
    "    \"\"\"\n",
    "    if metric == 'taxi':\n",
    "        interval = abs(pointB[0] - pointA[0]) + abs(pointB[1] - pointA[1])\n",
    "    else:\n",
    "        interval = np.sqrt((pointB[0] - pointA[0])**2 \\\n",
    "                                + (pointB[1] - pointA[1])**2 )\n",
    "    return interval\n",
    "dis1 = distance((3, 4.))\n",
    "dis2 = distance((3, 4.),(1,2), 'taxi')\n",
    "dis3 = distance(pointB=(1,2), metric ='normal', pointA=(3,4))\n",
    "print('dis 1 = ',dis1,', dis 2 = ',dis2,', dis 3 = ',dis3)\n",
    "#OR ------------------------\n",
    "dis1,dis2,dis3"
   ]
  },
  {
   "cell_type": "markdown",
   "metadata": {},
   "source": [
    "#### Example 2:\n",
    "Options:  Return Values"
   ]
  },
  {
   "cell_type": "code",
   "execution_count": null,
   "metadata": {
    "collapsed": false
   },
   "outputs": [],
   "source": [
    "import numpy as np\n",
    "#---------------------------------------------------------------\n",
    "def rotate_vector(vector, angle):\n",
    "    \"\"\"\n",
    "    Rotate a two-dimensional vector through a given angle.\n",
    "        vector = (x, y)\n",
    "        angle = rotation angle in radians (ccw)\n",
    "    Returns the image of a vector under rotation as a NumPy array.\n",
    "    \"\"\"\n",
    "    rotation_matrix = np.array([[np.cos(angle), -np.sin(angle)],\\\n",
    "                               [np.sin(angle),np.cos(angle)]])\n",
    "    return np.dot(rotation_matrix, vector)\n",
    "vec = [1,1]\n",
    "theta = np.pi/2\n",
    "r = rotate_vector(vec,theta)\n",
    "x, y = rotate_vector(vec,theta)\n",
    "_, z = rotate_vector(vec,theta)\n",
    "first, *rest = rotate_vector(vec,theta)\n",
    "print('NumPy Array: r = ', r);print('n-tuple: (x,y) = ', x,y); print('n-tuple with dummy variable \"_\" (discarded) = ', _,z)\n",
    "print('first element, then the rest: = ', first, *rest)"
   ]
  },
  {
   "cell_type": "markdown",
   "metadata": {},
   "source": [
    "## Functional Programming\n",
    "### Guidelines:\n",
    "1. Pass data to a function **only** through its arguments.\n",
    "2. Do NOT modify the arguments of a function.\n",
    "3. Return the result of a function with a *return* statement.\n",
    "\n",
    "#### Example:"
   ]
  },
  {
   "cell_type": "code",
   "execution_count": null,
   "metadata": {
    "collapsed": false
   },
   "outputs": [],
   "source": [
    "import numpy as np\n",
    "#-----------------------------------------------------------\n",
    "def running_average(x):\n",
    "    \"\"\"\n",
    "    Return cumulative average of an array.\n",
    "    \"\"\"\n",
    "    y = np.zeros(len(x)) #Empty array to store result\n",
    "    current_sum = 0.0   #Running sum of elements of x\n",
    "    for i in range(len(x)):\n",
    "        current_sum += x[i]  #increment sum.\n",
    "        y[i] = current_sum/(i+1.0)  #update running average\n",
    "    return y \n",
    "#------------------------------------------------------------\n",
    "xa=np.linspace(1,100,10)\n",
    "run_ave = running_average(xa)\n",
    "xa, run_ave"
   ]
  },
  {
   "cell_type": "markdown",
   "metadata": {},
   "source": [
    "## Random Numbers and Simulation"
   ]
  },
  {
   "cell_type": "code",
   "execution_count": null,
   "metadata": {
    "collapsed": false
   },
   "outputs": [],
   "source": [
    "# Random Walk\n",
    "import numpy as np\n",
    "import matplotlib.pyplot as plt\n",
    "%matplotlib inline\n",
    "#-------------------------------------------------------\n",
    "plt.close('all')\n",
    "from numpy.random import random as rng # Import Randon Number Generator as rng\n",
    "num_steps = 9999\n",
    "x_step=np.zeros(num_steps);y_step=np.zeros(num_steps)  #initialize\n",
    "# Assign +1 or minus -1 to step \n",
    "x_step = np.sign(1-2*rng(num_steps));y_step = np.sign(1-2*rng(num_steps))\n",
    "  # Insert leading 0 so that walk starts at (0,0)\n",
    "x0=np.insert(x_step,0,0.);y0=np.insert(y_step,0,0.)  \n",
    "xr=np.cumsum(x0);yr=np.cumsum(y0)     #  Accumulate steps\n",
    "plt.plot(xr,yr,'r  *')"
   ]
  },
  {
   "cell_type": "markdown",
   "metadata": {},
   "source": [
    "## Contour Plots\n",
    "#### Example 1:"
   ]
  },
  {
   "cell_type": "code",
   "execution_count": null,
   "metadata": {
    "collapsed": false
   },
   "outputs": [],
   "source": [
    "import numpy as np\n",
    "import matplotlib.pyplot as plt\n",
    "%matplotlib inline  \n",
    "# ----------------------------------------------------------------------\n",
    "plt.close('all')\n",
    "# ----------------------------------------------------------------------\n",
    "x_vals = np.linspace(-3,3,101);y_vals = np.linspace(-3,3,101)\n",
    "X,Y=np.meshgrid(x_vals,y_vals)       # set up mesh \n",
    "Z=np.cos(X)*np.sin(Y)                # \"height\" of contour\n",
    "cs = plt.contour(X,Y,Z,11,linewidths = 3)     # set number of contours and linwidth of contours\n",
    "plt.clabel(cs, fontsize = 10)        # label contours"
   ]
  },
  {
   "cell_type": "markdown",
   "metadata": {},
   "source": [
    "####  Example 2:"
   ]
  },
  {
   "cell_type": "code",
   "execution_count": null,
   "metadata": {
    "collapsed": false
   },
   "outputs": [],
   "source": [
    "import numpy as np\n",
    "import matplotlib.pyplot as plt\n",
    "%matplotlib inline\n",
    "# ----------------------------------------------------------------------\n",
    "plt.close('all')\n",
    "# ----------------------------------------------------------------------\n",
    "x_vals = np.linspace(-3,3,101);y_vals = np.linspace(-3,3,101)\n",
    "X,Y=np.meshgrid(x_vals,y_vals)\n",
    "Z=np.cos(X)*np.sin(Y)\n",
    "cs = plt.contour(X,Y,Z,11,linewidths = 3, colors='k')\n",
    "plt.clabel(cs, fontsize = 10)"
   ]
  },
  {
   "cell_type": "markdown",
   "metadata": {},
   "source": [
    "## Surface Plots (need 3D axes!)\n",
    "#### Example 1:"
   ]
  },
  {
   "cell_type": "code",
   "execution_count": null,
   "metadata": {
    "collapsed": false
   },
   "outputs": [],
   "source": [
    "import matplotlib.pyplot as plt\n",
    "from mpl_toolkits.mplot3d import Axes3D           #Import 3D plotting tool\n",
    "%matplotlib inline\n",
    "ax = Axes3D(plt.figure())              # Create 3D plotter attached to new figure\n",
    "x_vals = np.linspace(-1,1,101);y_vals = np.linspace(-1,1,101)\n",
    "X,Y=np.meshgrid(x_vals,y_vals)\n",
    "Z=X**2 + Y**2\n",
    "ax.plot_surface(X,Y,Z)        #Default uses 10% of the mesh point; Color: Default - Blue with shading"
   ]
  },
  {
   "cell_type": "markdown",
   "metadata": {},
   "source": [
    "#### Example 2:"
   ]
  },
  {
   "cell_type": "code",
   "execution_count": null,
   "metadata": {
    "collapsed": false
   },
   "outputs": [],
   "source": [
    "import matplotlib.pyplot as plt\n",
    "from mpl_toolkits.mplot3d import Axes3D \n",
    "%matplotlib inline\n",
    "ax = Axes3D(plt.figure())\n",
    "x_vals = np.linspace(-3,3,101);y_vals = np.linspace(-3,3,101)\n",
    "X,Y=np.meshgrid(x_vals,y_vals)\n",
    "Z=np.cos(X)*np.sin(Y)\n",
    "ax.plot_surface(X,Y,Z,rstride=1,cstride=1,cmap='bone')   #Uses ALL meshpoints (Memory Intensive): row stride, column stride"
   ]
  },
  {
   "cell_type": "markdown",
   "metadata": {},
   "source": [
    "## Numerical Solutions of Nonlinear Equations\n",
    "#### Example 1:  Real functions"
   ]
  },
  {
   "cell_type": "code",
   "execution_count": null,
   "metadata": {
    "collapsed": false
   },
   "outputs": [],
   "source": [
    "from scipy.optimize import fsolve\n",
    "def f(x): return x**2 - 1\n",
    "f1=fsolve(f, 0.5);f2=fsolve(f, -0.50);f3=fsolve(f,[-0.5, 0.5])\n",
    "print(f1,f2,f3)"
   ]
  },
  {
   "cell_type": "markdown",
   "metadata": {},
   "source": [
    "#### Examle 2:  Complex roots of real polynomials"
   ]
  },
  {
   "cell_type": "code",
   "execution_count": null,
   "metadata": {
    "collapsed": false
   },
   "outputs": [],
   "source": [
    "from scipy.optimize import fsolve\n",
    "def f(x): return x*(1 + x**3) - 1         # x**4 + x - 1 = 0\n",
    "f1=fsolve(f, 1)\n",
    "f2=fsolve(f, -1)\n",
    "f1,f2                # fsplve gives only 2 (real) roots"
   ]
  },
  {
   "cell_type": "code",
   "execution_count": null,
   "metadata": {
    "collapsed": false
   },
   "outputs": [],
   "source": [
    "np.roots([1,0,0,1,-1])          # [1,0,0,1,-1] are coefficients of:   x**4 + x -1 = 0"
   ]
  },
  {
   "cell_type": "markdown",
   "metadata": {},
   "source": [
    "## Solving Systems of Linear Equations\n",
    "\n",
    "#### Useful scipy linear algebra functions:\n",
    "\n",
    "**inv** matrix inverse\n",
    "\n",
    "**det** determinant\n",
    "\n",
    "**sqrtm** matrix square root\n",
    "\n",
    "**expm** matrix exponentiation\n",
    "\n",
    "**eig** eigenvalues and eigenvectors of a matrix\n",
    "\n",
    "**eigh** eigenvalues and eigenvectors of a Hermitian matrix\n",
    "\n",
    "**svd** singular value decomposition To solve the linear system above, we need"
   ]
  },
  {
   "cell_type": "code",
   "execution_count": null,
   "metadata": {
    "collapsed": false
   },
   "outputs": [],
   "source": [
    "import numpy as np\n",
    "import scipy.linalg       # import linear algebra module from scipy\n",
    "from scipy.linalg import inv      # import matrix inverse from linear algebra module\n",
    "a = np.array([-1,5])\n",
    "C = np.array([[1,3],[3,4]])\n",
    "x = np.dot(inv(C),a)\n",
    "print(x)                                # a = C x\n",
    "diff = np.dot(C,x)-a              #check solution\n",
    "diff"
   ]
  },
  {
   "cell_type": "markdown",
   "metadata": {},
   "source": [
    "## Numerical Integration\n",
    "#### Example 1: Integrate Cos(theta) from 0 to pi/4 (result, error estimate)"
   ]
  },
  {
   "cell_type": "code",
   "execution_count": null,
   "metadata": {
    "collapsed": false
   },
   "outputs": [],
   "source": [
    "import numpy as np\n",
    "import matplotlib.pyplot as plt\n",
    "import scipy.integrate                     # import scipy.integrate module\n",
    "from scipy.integrate import quad  \n",
    "x1=quad(np.cos,0,np.pi/4)          # numerical integral\n",
    "x2=1/np.sqrt(2)                    # exact result\n",
    "x1,x2"
   ]
  },
  {
   "cell_type": "markdown",
   "metadata": {},
   "source": [
    "#### Example 2:  Integrate Cos(theta) at 50 points between 0 and 3pi [should look like a sin()]"
   ]
  },
  {
   "cell_type": "code",
   "execution_count": null,
   "metadata": {
    "collapsed": false
   },
   "outputs": [],
   "source": [
    "import numpy as np\n",
    "import matplotlib.pyplot as plt\n",
    "%matplotlib inline\n",
    "import scipy.integrate                     # import scipy.integrate module\n",
    "from scipy.integrate import quad          # import quad from scipy.integrate module [integrates over singe variable]\n",
    "x_max = np.linspace(0,3*np.pi,50)\n",
    "integral = np.zeros(x_max.size); error = np.zeros(x_max.size)\n",
    "for i in range(x_max.size):\n",
    "    integral[i], error[i] = quad(np.cos,0,x_max[i])\n",
    "plt.scatter(x_max,integral)                 # quad result: Blue dots\n",
    "plt.plot(x_max,np.sin(x_max),'r--')         # \"exact\" result: red dashes\n",
    "error"
   ]
  },
  {
   "cell_type": "markdown",
   "metadata": {},
   "source": [
    "#### Example 3:  multiple variables/parameters\n",
    "##### Dummy function"
   ]
  },
  {
   "cell_type": "code",
   "execution_count": null,
   "metadata": {
    "collapsed": false
   },
   "outputs": [],
   "source": [
    "def f(x,a,b,c): return a*x**2 + b*x + c\n",
    "#use a dummy function\n",
    "def g(x): return f(x,1,2,3)\n",
    "integral, err = quad(g,-1,1)\n",
    "integral, err"
   ]
  },
  {
   "cell_type": "markdown",
   "metadata": {},
   "source": [
    "##### Or"
   ]
  },
  {
   "cell_type": "code",
   "execution_count": null,
   "metadata": {
    "collapsed": false
   },
   "outputs": [],
   "source": [
    "def f(x,a,b,c): return a*x**2 + b*x + c\n",
    "integral, err = quad(f,-1,1,args = (1,2,3))          # function, f, needs to be first argument\n",
    "integral, err"
   ]
  },
  {
   "cell_type": "markdown",
   "metadata": {},
   "source": [
    "## Numerical Solutions to Differential Equations\n",
    "#### odeint:  Differential equation must be of the form:\n",
    "d**y**/dt = **F**(**y**,t)  where **y** and **F** are arrays.  **y** is the \"solution\"\n",
    "####  Example 1:   Simple Harmonic Oscillator"
   ]
  },
  {
   "cell_type": "code",
   "execution_count": null,
   "metadata": {
    "collapsed": false
   },
   "outputs": [],
   "source": [
    "import numpy as np\n",
    "import matplotlib.pyplot as plt\n",
    "import scipy.integrate              # Load module: scipy.integrate\n",
    "from scipy.integrate import odeint   # Load odeint (ode integrate) from scipy.integrate module\n",
    "plt.close('all')\n",
    "# simple_oscillator\n",
    "def F(y,t):         # must have t argument\n",
    "    \"\"\"\n",
    "    Return derivatives for second-order ODE y'' = -y\n",
    "    \"\"\"\n",
    "    dy =[0,0]         # create a list to store derivatives\n",
    "    dy[0] = y[1]       # Store first derivative of y(t)\n",
    "    dy[1] = -y[0] #Store second derivative of y(t)\n",
    "    return dy\n",
    "\n",
    "# create an array of time vaules:\n",
    "t_min = 0; t_max = 10; dt = 0.1\n",
    "t = np.arange(t_min, t_max, dt)\n",
    "\n",
    "# Provide two sets of initial conditions:\n",
    "initial_conditions = [(1.0,0.0),(0.0,1.0)]\n",
    "plt.figure()         # create figure; add plots later.\n",
    "for y0 in initial_conditions:\n",
    "    y = odeint(F, y0, t)\n",
    "    plt.plot(t, y[:,0])\n",
    "\n",
    "skip = 5\n",
    "t_test = t[::skip]                          # Compare at a subset of points\n",
    "plt.plot(t_test, np.cos(t_test), 'bo')           # Exact solution for y0 = (1,0)\n",
    "plt.plot(t_test, np.sin(t_test), 'go')           # Exact solution for y0 = (0,1)\n",
    "plt.show()"
   ]
  },
  {
   "cell_type": "markdown",
   "metadata": {},
   "source": [
    "#### Example 2:  Driven Simple Harmonic Oscillator"
   ]
  },
  {
   "cell_type": "code",
   "execution_count": null,
   "metadata": {
    "collapsed": false
   },
   "outputs": [],
   "source": [
    "import numpy as np\n",
    "import matplotlib.pyplot as plt\n",
    "import scipy.integrate              # Load module: scipy.integrate\n",
    "from scipy.integrate import odeint   # Load odeint (ode integrate) from scipy.integrate module\n",
    "plt.close('all')\n",
    "# simple_oscillator with driving force\n",
    "def F(y,t):         # must t argument\n",
    "    \"\"\"\n",
    "    Return derivatives for second-order ODE y'' = -y\n",
    "    \"\"\"\n",
    "    dy =[0,0]         # create a list to store derivatives\n",
    "    dy[0] = y[1]       # Store first derivative of y(t)\n",
    "    dy[1] = -y[0] + np.sin(0.8*t)          #Store second derivative of y(t)\n",
    "    return dy\n",
    "\n",
    "# create an array of time vaules:\n",
    "t_min = 0; t_max = 100; dt = 0.1\n",
    "t = np.arange(t_min, t_max, dt)\n",
    "\n",
    "# Provide two sets of initial conditions:\n",
    "initial_conditions = [(1.0,0.0),(0.0,1.0)]\n",
    "plt.figure()         # create figure; add plots later.\n",
    "for y0 in initial_conditions:\n",
    "    y = odeint(F, y0, t)\n",
    "    plt.plot(t, y[:,0])\n",
    "plt.show()"
   ]
  },
  {
   "cell_type": "markdown",
   "metadata": {
    "collapsed": true
   },
   "source": [
    "#### Example 3:  Parametric Oscillator (Use dummy function)"
   ]
  },
  {
   "cell_type": "code",
   "execution_count": null,
   "metadata": {
    "collapsed": true
   },
   "outputs": [],
   "source": [
    "import numpy as np\n",
    "import matplotlib.pyplot as plt\n",
    "import scipy.integrate              # Load module: scipy.integrate\n",
    "from scipy.integrate import odeint   # Load odeint (ode integrate) from scipy.integrate module\n",
    "plt.close('all')\n",
    "# simple_oscillator with driving force\n",
    "def F(y,t,spring_constant=1.0,mass=1.0):         # must t argument\n",
    "    \"\"\"\n",
    "    Return derivatives for second-order ODE y'' = -(k/m)y\n",
    "    y = displacement in meters [m]\n",
    "    k =  spring constant in [N/m]\n",
    "    m = mass in [kg]\n",
    "    \"\"\"\n",
    "    dy =[0,0]         # create a list to store derivatives\n",
    "    dy[0] = y[1]       # Store first derivative of y(t)\n",
    "    dy[1] = -(spring_constant/mass)*y[0]         #Store second derivative of y(t)\n",
    "    return dy\n",
    "y0 = (1.0,0.0)                     # 2 initial conditions - 2 solutions\n",
    "t = np.linspace(0,10,101)         #linear spacing: (start,end, # of points)\n",
    "\n",
    "# Use dummy function\n",
    "def G(y,t): return F(y,t,2.0,0.5)\n",
    "yA = odeint(G,y0,t)\n",
    "plt.plot(t,yA)\n",
    "plt.show()"
   ]
  },
  {
   "cell_type": "markdown",
   "metadata": {},
   "source": [
    "#### Example 4:  Parametric Oscillator (Use Keywords)"
   ]
  },
  {
   "cell_type": "code",
   "execution_count": null,
   "metadata": {
    "collapsed": true
   },
   "outputs": [],
   "source": [
    "import numpy as np\n",
    "import matplotlib.pyplot as plt\n",
    "import scipy.integrate              # Load module: scipy.integrate\n",
    "from scipy.integrate import odeint   # Load odeint (ode integrate) from scipy.integrate module\n",
    "plt.close('all')\n",
    "# simple_oscillator with driving force\n",
    "def F(y,t,spring_constant=1.0,mass=1.0):         # must t argument\n",
    "    \"\"\"\n",
    "    Return derivatives for second-order ODE y'' = -(k/m)y\n",
    "    y = displacement in meters [m]\n",
    "    k =  spring constant in [N/m]\n",
    "    m = mass in [kg]\n",
    "    \"\"\"\n",
    "    dy =[0,0]         # create a list to store derivatives\n",
    "    dy[0] = y[1]       # Store first derivative of y(t)\n",
    "    dy[1] = -(spring_constant/mass)*y[0]         #Store second derivative of y(t)\n",
    "    return dy\n",
    "y0 = (1.0,0.0)                     # 2 initial conditions - 2 solutions\n",
    "t = np.linspace(0,10,101)         #linear spacing: (start,end, # of points)\n",
    "\n",
    "# Use Keywords\n",
    "yB = odeint(F,y0,t,args=(2.0,0.5))\n",
    "plt.plot(t,yB)\n",
    "plt.show()"
   ]
  },
  {
   "cell_type": "markdown",
   "metadata": {},
   "source": [
    "## Vector Fields and Streamlines\n",
    "### Vector Fields: \n",
    "#### Example 1: quiver"
   ]
  },
  {
   "cell_type": "code",
   "execution_count": null,
   "metadata": {
    "collapsed": false
   },
   "outputs": [],
   "source": [
    "import numpy as np\n",
    "import matplotlib.pyplot as plt\n",
    "%matplotlib inline\n",
    "plt.close('all')\n",
    "coords = np.linspace(-1,1,11)\n",
    "X,Y = np.meshgrid(coords,coords)\n",
    "Vx,Vy = Y, -X\n",
    "plt.quiver(X,Y,Vx,Vy)"
   ]
  },
  {
   "cell_type": "markdown",
   "metadata": {},
   "source": [
    "#### Example 2: gradient"
   ]
  },
  {
   "cell_type": "code",
   "execution_count": null,
   "metadata": {
    "collapsed": false
   },
   "outputs": [],
   "source": [
    "import numpy as np; import matplotlib.pyplot as plt\n",
    "%matplotlib inline\n",
    "\n",
    "plt.close('all')\n",
    "coords = np.linspace(-2,2,101)\n",
    "X,Y = np.meshgrid(coords[::5],coords[::5])     #Course grid for vector field\n",
    "R = np.sqrt(X**2 + Y**2)\n",
    "Z = np.exp(-R**2)\n",
    "x,y = np.meshgrid(coords,coords)              # Fine grid for contour plot\n",
    "r = np.sqrt(x**2 + y**2)\n",
    "z = np.exp(-r**2)\n",
    "\n",
    "ds = coords[5] - coords[0]                      #Course grid spacing\n",
    "dX, dY = np.gradient(Z, ds)                    #Calculate gradient\n",
    "\n",
    "plt.contourf(x,y,z,25)\n",
    "plt.set_cmap('coolwarm')\n",
    "plt.quiver(X,Y,dX.transpose(),dY.transpose(),scale=25,color='k')"
   ]
  },
  {
   "cell_type": "markdown",
   "metadata": {},
   "source": [
    "## Streamlines"
   ]
  },
  {
   "cell_type": "code",
   "execution_count": null,
   "metadata": {
    "collapsed": false
   },
   "outputs": [],
   "source": [
    "import numpy as np; import matplotlib.pyplot as plt\n",
    "%matplotlib inline\n",
    "lower = -2;upper = 2; step = 0.2\n",
    "coords =np.arange(lower, upper +step, step)\n",
    "X,Y = np.meshgrid(coords,coords)\n",
    "Vx =X; Vy = -Y\n",
    "plt.streamplot(X,Y,Vx,Vy)"
   ]
  },
  {
   "cell_type": "markdown",
   "metadata": {},
   "source": [
    "## Random Walk\n",
    "#### Example 1:  1D Random Walk"
   ]
  },
  {
   "cell_type": "code",
   "execution_count": null,
   "metadata": {
    "collapsed": false
   },
   "outputs": [],
   "source": [
    "import numpy as np\n",
    "import matplotlib.pyplot as plt\n",
    "%matplotlib inline\n",
    "from numpy.random import random as rng\n",
    "num_steps = 400\n",
    "last_steps = 10000\n",
    "x_last=np.zeros(last_steps);x2=np.zeros(last_steps)\n",
    "def rand(x):\n",
    "    y = np.sign(1-2*rng(x))\n",
    "    return y\n",
    "for i in range(last_steps):\n",
    "    x_step = rand(num_steps)\n",
    "    xr=np.cumsum(x_step)\n",
    "    x_last[i]=xr[-1]\n",
    "    x2[i]=xr[-1]**2\n",
    "plt.figure()\n",
    "plt.hist(x_last,25)\n",
    "xrms=np.sqrt(np.mean(x2))\n",
    "print('Root Mean Square = ',xrms,'square root of num_steps = ',np.sqrt(num_steps))"
   ]
  },
  {
   "cell_type": "markdown",
   "metadata": {},
   "source": [
    "#### Example 2:  2D Random Walk"
   ]
  },
  {
   "cell_type": "code",
   "execution_count": null,
   "metadata": {
    "collapsed": false
   },
   "outputs": [],
   "source": [
    "import numpy as np\n",
    "import matplotlib.pyplot as plt\n",
    "%matplotlib inline\n",
    "from numpy.random import random as rng\n",
    "num_steps = 400\n",
    "last_steps = 100000\n",
    "x_last=np.zeros(last_steps);y_last=np.zeros(last_steps);dist=np.zeros(last_steps)\n",
    "def rand(x):\n",
    "    y = np.sign(1-2*rng(x))\n",
    "    return y\n",
    "for i in range(last_steps):\n",
    "    x_step = rand(num_steps)\n",
    "    y_step = rand(num_steps)\n",
    "    xr=np.cumsum(x_step)\n",
    "    yr=np.cumsum(y_step)\n",
    "    x_last[i]=xr[-1]\n",
    "    y_last[i]=yr[-1]\n",
    "    dist[i]=np.sqrt((xr[-1]**2 + yr[-1]**2)/2)\n",
    "plt.figure()\n",
    "plt.plot(x_last,y_last,'b  o')\n",
    "plt.figure()\n",
    "plt.hist(dist,25)\n",
    "xm=np.mean(x_last)\n",
    "ym=np.mean(y_last)\n",
    "drms=np.sqrt(np.mean(dist**2))\n",
    "sd=np.std(dist)\n",
    "print('root mean square distance = ',drms,'STD of the Mean = ',sd/np.sqrt(num_steps-1))\n",
    "print('Sqrt of N = ',np.sqrt(num_steps))"
   ]
  },
  {
   "cell_type": "markdown",
   "metadata": {},
   "source": [
    "####  Example 3:  3D Random Walk"
   ]
  },
  {
   "cell_type": "code",
   "execution_count": null,
   "metadata": {
    "collapsed": false
   },
   "outputs": [],
   "source": [
    "import numpy as np\n",
    "import matplotlib.pyplot as plt\n",
    "%matplotlib inline\n",
    "ax = plt.gca()\n",
    "from numpy.random import random as rng\n",
    "plt.close()\n",
    "num_steps = 400\n",
    "last_steps = 10000\n",
    "x_last=np.zeros(last_steps)\n",
    "y_last=np.zeros(last_steps)\n",
    "z_last=np.zeros(last_steps)\n",
    "dist=np.zeros(last_steps)\n",
    "def rand(x):\n",
    "    y = np.sign(1-2*rng(x))\n",
    "    return y\n",
    "for i in range(last_steps):\n",
    "    x_step = rand(num_steps)\n",
    "    y_step = rand(num_steps)\n",
    "    z_step = rand(num_steps)\n",
    "    xr=np.cumsum(x_step)\n",
    "    yr=np.cumsum(y_step)\n",
    "    zr=np.cumsum(z_step)\n",
    "    x_last[i]=xr[-1]\n",
    "    y_last[i]=yr[-1]\n",
    "    z_last[i]=zr[-1]\n",
    "    dist[i]=np.sqrt(xr[-1]**2 + yr[-1]**2 + zr[-1]**2)\n",
    "plt.subplot(2,2,1);plt.plot(x_last,y_last,'b  .')\n",
    "plt.xlabel('Y');plt.ylabel('X')\n",
    "plt.subplot(2,2,2);plt.plot(y_last,z_last,'b  .')\n",
    "plt.xlabel('Z');plt.ylabel('Y')\n",
    "plt.subplot(2,2,3);plt.plot(z_last,x_last,'b  .')\n",
    "plt.xlabel('X');plt.ylabel('Z')\n",
    "plt.subplot(2,2,4);plt.hist(dist,25);plt.title('Distance Distribution')\n",
    "xm=np.mean(x_last)\n",
    "ym=np.mean(y_last)\n",
    "zm=np.mean(z_last)\n",
    "rms=np.sqrt(np.mean(dist**2))\n",
    "sd=np.std(dist)\n",
    "print('Root Mean Square Distance = ',rms,'Square Root of num_steps = ',np.sqrt(3*num_steps))"
   ]
  },
  {
   "cell_type": "markdown",
   "metadata": {},
   "source": [
    "####  Example 4: Poisson Distribution (8% Heads: 92% Tails)"
   ]
  },
  {
   "cell_type": "code",
   "execution_count": null,
   "metadata": {
    "collapsed": false
   },
   "outputs": [],
   "source": [
    "import numpy as np\n",
    "import matplotlib.pyplot as plt\n",
    "%matplotlib inline\n",
    "from scipy.special import factorial as fac\n",
    "ax = plt.gca()\n",
    "# ----------------------------------------------------------------------\n",
    "plt.close('all')\n",
    "# ----------------------------------------------------------------------\n",
    "from numpy.random import random as rng\n",
    "num_flips = 100\n",
    "trials = 10000\n",
    "all_flips = np.zeros(num_flips)\n",
    "num_heads=np.zeros(trials)\n",
    "def rand(x):\n",
    "    y = np.sign(8-100*rng(x))\n",
    "    return y\n",
    "for i in range(trials):\n",
    "    all_flips= rand(num_flips)\n",
    "    heads = all_flips >= 0\n",
    "    num_heads[i] = np.sum(heads)\n",
    "plt.figure()\n",
    "plt.hist(num_heads,25,(0,25))\n",
    "l_values = np.arange(0,24.5,0.1)\n",
    "P = (np.exp(-8))*(8**l_values)/fac(l_values)\n",
    "plt.plot(l_values+0.5,trials*P,'r',linewidth = 3)\n",
    "plt.axis('tight')  # Minimize space around plot\n",
    "plt.title(\"Poisson Distribution - 8% Heads\", size=24)\n",
    "plt.xlabel('Bins (0 - 100% Heads)', size=15)\n",
    "plt.ylabel('Frequency', size=15)"
   ]
  },
  {
   "cell_type": "markdown",
   "metadata": {},
   "source": [
    "#### Example 5:  Poisson Distribution - Number of Tails between Heads (8% Heads)"
   ]
  },
  {
   "cell_type": "code",
   "execution_count": null,
   "metadata": {
    "collapsed": false
   },
   "outputs": [],
   "source": [
    "import numpy as np\n",
    "import matplotlib.pyplot as plt\n",
    "%matplotlib inline\n",
    "from numpy.random import random as rng\n",
    "plt.close()\n",
    "#--------------------------------------------------------\n",
    "num_flips = 10000000\n",
    "rand = (1+np.sign(8-100*rng(num_flips)))/2 #8% Heads\n",
    "NonZ = np.nonzero(rand)   #nonzeros\n",
    "Diff = np.diff(NonZ)-1\n",
    "Difflat=Diff.flatten()\n",
    "Ave=np.mean(Difflat)\n",
    "STD=np.std(Difflat)\n",
    "plt.hist(Difflat,100,(0,100))\n",
    "Ave,STD/np.sqrt(num_flips-1)"
   ]
  },
  {
   "cell_type": "markdown",
   "metadata": {},
   "source": [
    "# SymPy"
   ]
  },
  {
   "cell_type": "code",
   "execution_count": null,
   "metadata": {
    "collapsed": false
   },
   "outputs": [],
   "source": [
    "import sympy\n",
    "from sympy import *\n",
    "init_session()\n",
    "#----------------------------------------------------------------\n",
    "a=expand((x+y)**5)\n",
    "b=factor(x**6 - 1)\n",
    "c=pi.n(100)\n",
    "d=diff(x*sin(y),x,y)\n",
    "e=integrate(cos(x)**2,x)\n",
    "f=integrate(exp(-x**2),(x,-oo,oo))\n",
    "g=Sum(k**3,(k,0,m)).doit().factor()\n",
    "#\n",
    "print('((x+y)**5) = ',a)\n",
    "print('(x**6 -1) = ',b)\n",
    "print('Pi to 100 places = ',c)\n",
    "print('Derivative of x*sin(y) = ',d)\n",
    "print('Integral of Cos(x) =',e)\n",
    "print('Integral of exp(-x**2) from  inf to + inf =',f)\n",
    "print('Sum of k**3 from 0 to m = ',g)\n",
    "#plot(besselj(0,x),besselj(1,x),(x,0,10))"
   ]
  },
  {
   "cell_type": "code",
   "execution_count": null,
   "metadata": {
    "collapsed": true
   },
   "outputs": [],
   "source": []
  }
 ],
 "metadata": {
  "kernelspec": {
   "display_name": "Python 3",
   "language": "python",
   "name": "python3"
  },
  "language_info": {
   "codemirror_mode": {
    "name": "ipython",
    "version": 3
   },
   "file_extension": ".py",
   "mimetype": "text/x-python",
   "name": "python",
   "nbconvert_exporter": "python",
   "pygments_lexer": "ipython3",
   "version": "3.5.0"
  }
 },
 "nbformat": 4,
 "nbformat_minor": 0
}
