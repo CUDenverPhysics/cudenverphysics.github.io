{
 "cells": [
  {
   "cell_type": "markdown",
   "metadata": {},
   "source": [
    "![alt text](logo.png \"Logo\")\n",
    "\n",
    "<center> <h1> Introduction to Jupyter Notebooks</h1> </center>\n",
    "<center> <h2> 2015 November 20 </h2> </center>\n",
    "\n",
    "# Notebook Overview\n",
    "\n",
    "Meet Jupyter Notebook! Jupyter Notebook is a web application that allows you to create and share documents that contain live code, equations, visualizations and explanatory text. Uses include: data cleaning and transformation, numerical simulation, statistical modeling, machine learning and much more. It is an open source, interactive data science and scientific computing platform across over 40 programming languages.\n",
    "\n",
    "Here, we will be focusing on installing and using the notebook to execute Python code, and exploring some features of the notebook. <b> Note: This notebook is written in Python 3 </b>"
   ]
  },
  {
   "cell_type": "markdown",
   "metadata": {},
   "source": [
    "# Installation\n",
    "\n",
    "### Python and Jupyter\n",
    "The easiest way to get started is to install Anaconda (https://www.continuum.io/downloads). Anaconda is a completely free Python distribution and includes more than 300 of the most popular Python packages for science, math, engineering, and data analysis. It is available in two versions: Python 2.x and Python 3.x (you can install both if needed). Unless you need Python 2.x for a specific reason, go ahead and choose the Python 3.x version.\n",
    "\n",
    "### Data Acquisition and Instrument Control\n",
    "To communicate with external instrumentation, a few additional items need to be installed. Namely, NI-VISA and pyVISA. For NI-VISA, visit https://www.ni.com/visa/ and find the latest version (the free one - 15.0.1 as of 20 Nov 2015). pyVISA can be installed by opening up a terminal (command prompt) and executing:\n",
    "\n",
    "<div class=\"highlight-python\"><div class=\"highlight\"><pre>$ pip install -U pyvisa</pre></div>\n",
    "\n",
    "Documentation can be found here: https://pyvisa.readthedocs.org/en/stable/\n",
    "\n",
    "### RISE: A \"live\" slide deck extension for Jupyter\n",
    "This extension allows you to be able to put your notebooks into a presentation display. Read about it and get it here: https://github.com/damianavila/RISE"
   ]
  },
  {
   "cell_type": "markdown",
   "metadata": {},
   "source": [
    "# Plotting with Matplotlib"
   ]
  },
  {
   "cell_type": "markdown",
   "metadata": {},
   "source": [
    "IPython works with the [Matplotlib](http://matplotlib.org/) plotting library, which integrates Matplotlib with IPython's display system and event loop handling."
   ]
  },
  {
   "cell_type": "markdown",
   "metadata": {},
   "source": [
    "### Matplotlib mode"
   ]
  },
  {
   "cell_type": "markdown",
   "metadata": {},
   "source": [
    "To make plots using Matplotlib, you must first enable IPython's matplotlib mode.\n",
    "\n",
    "To do this, run the `%matplotlib` magic command to enable plotting in the current Notebook.\n",
    "\n",
    "This magic takes an optional argument that specifies which Matplotlib backend should be used.  Most of the time, in the Notebook, you will want to use the `inline` backend, which will embed plots inside the Notebook:"
   ]
  },
  {
   "cell_type": "code",
   "execution_count": null,
   "metadata": {
    "collapsed": false
   },
   "outputs": [],
   "source": [
    "%matplotlib inline"
   ]
  },
  {
   "cell_type": "markdown",
   "metadata": {},
   "source": [
    "You can also use Matplotlib GUI backends in the Notebook, such as the Qt backend (`%matplotlib qt`). This will use Matplotlib's interactive Qt UI in a floating window to the side of your browser. Of course, this only works if your browser is running on the same system as the Notebook Server.  You can always call the `display` function to paste figures into the Notebook document."
   ]
  },
  {
   "cell_type": "markdown",
   "metadata": {},
   "source": [
    "### Making a simple plot"
   ]
  },
  {
   "cell_type": "markdown",
   "metadata": {},
   "source": [
    "With matplotlib enabled, plotting should just work."
   ]
  },
  {
   "cell_type": "code",
   "execution_count": null,
   "metadata": {
    "collapsed": true
   },
   "outputs": [],
   "source": [
    "import matplotlib.pyplot as plt\n",
    "import numpy as np"
   ]
  },
  {
   "cell_type": "code",
   "execution_count": null,
   "metadata": {
    "collapsed": false
   },
   "outputs": [],
   "source": [
    "x = np.linspace(0, 3*np.pi, 500)\n",
    "plt.plot(x, np.sin(x**2))\n",
    "plt.title('A simple chirp');"
   ]
  },
  {
   "cell_type": "markdown",
   "metadata": {},
   "source": [
    "### Plot demonstrating the integral as the area under a curve"
   ]
  },
  {
   "cell_type": "markdown",
   "metadata": {},
   "source": [
    "Although this is a simple example, it demonstrates some important tweaks:\n",
    "\n",
    "- A simple line plot with custom color and line width\n",
    "- A shaded region created using a Polygon patch\n",
    "- A text label with mathtext rendering\n",
    "- figtext calls to label the x- and y-axes\n",
    "- Use of axis spines to hide the top and right spines\n",
    "- Custom tick placement and labels"
   ]
  },
  {
   "cell_type": "code",
   "execution_count": null,
   "metadata": {
    "collapsed": false
   },
   "outputs": [],
   "source": [
    "import numpy as np\n",
    "import matplotlib.pyplot as plt\n",
    "from matplotlib.patches import Polygon\n",
    "\n",
    "\n",
    "def func(x):\n",
    "    return (x - 3) * (x - 5) * (x - 7) + 85\n",
    "\n",
    "\n",
    "a, b = 2, 9 # integral limits\n",
    "x = np.linspace(0, 10)\n",
    "y = func(x)\n",
    "\n",
    "fig, ax = plt.subplots()\n",
    "plt.plot(x, y, 'r', linewidth=2)\n",
    "plt.ylim(ymin=0)\n",
    "\n",
    "# Make the shaded region\n",
    "ix = np.linspace(a, b)\n",
    "iy = func(ix)\n",
    "verts = [(a, 0)] + list(zip(ix, iy)) + [(b, 0)]\n",
    "poly = Polygon(verts, facecolor='0.9', edgecolor='0.5')\n",
    "ax.add_patch(poly)\n",
    "\n",
    "plt.text(0.5 * (a + b), 30, r\"$\\int_a^b f(x)\\mathrm{d}x$\",\n",
    "         horizontalalignment='center', fontsize=20)\n",
    "\n",
    "plt.figtext(0.9, 0.05, '$x$')\n",
    "plt.figtext(0.1, 0.9, '$y$')\n",
    "\n",
    "ax.spines['right'].set_visible(False)\n",
    "ax.spines['top'].set_visible(False)\n",
    "ax.xaxis.set_ticks_position('bottom')\n",
    "\n",
    "ax.set_xticks((a, b))\n",
    "ax.set_xticklabels(('$a$', '$b$'))\n",
    "ax.set_yticks([])\n",
    "\n",
    "plt.show()"
   ]
  },
  {
   "cell_type": "markdown",
   "metadata": {},
   "source": [
    "# Plotting with Bokeh"
   ]
  },
  {
   "cell_type": "markdown",
   "metadata": {},
   "source": [
    "Bokeh is a Python interactive visualization library that targets modern web browsers for presentation providing elegant, concise construction of novel graphics with high-performance interactivity over very large or streaming datasets in a quick and easy way."
   ]
  },
  {
   "cell_type": "markdown",
   "metadata": {},
   "source": [
    "### A simple line plot"
   ]
  },
  {
   "cell_type": "code",
   "execution_count": null,
   "metadata": {
    "collapsed": false
   },
   "outputs": [],
   "source": [
    "from bokeh.plotting import figure, output_notebook, show\n",
    "\n",
    "# Specifying that we want the plot to be displayed within the notebook\n",
    "output_notebook(hide_banner=True)\n",
    "\n",
    "# prepare some data\n",
    "x = [1, 2, 3, 4, 5]\n",
    "y = [6, 7, 2, 4, 5]\n",
    "\n",
    "# create a new plot with a title and axis labels\n",
    "p = figure(title=\"simple line example\", x_axis_label='x', y_axis_label='y', plot_width=950, plot_height=600)\n",
    "\n",
    "# add a line renderer with legend and line thickness\n",
    "p.line(x, y, legend=\"Temp.\", line_width=2)\n",
    "\n",
    "# show the results\n",
    "show(p)"
   ]
  },
  {
   "cell_type": "markdown",
   "metadata": {},
   "source": [
    "### Log Axis Example"
   ]
  },
  {
   "cell_type": "code",
   "execution_count": null,
   "metadata": {
    "collapsed": false
   },
   "outputs": [],
   "source": [
    "from bokeh.plotting import figure, output_notebook, show\n",
    "\n",
    "# Specifying that we want the plot to be displayed within the notebook\n",
    "output_notebook(hide_banner=True)\n",
    "\n",
    "# prepare some data\n",
    "x = [0.1, 0.5, 1.0, 1.5, 2.0, 2.5, 3.0]\n",
    "y0 = [i**2 for i in x]\n",
    "y1 = [10**i for i in x]\n",
    "y2 = [10**(i**2) for i in x]\n",
    "\n",
    "\n",
    "# create a new plot\n",
    "p = figure(\n",
    "   tools=\"pan,box_zoom,reset,save\",\n",
    "   y_axis_type=\"log\", y_range=[0.001, 10**11], title=\"log axis example\",\n",
    "   x_axis_label='sections', y_axis_label='particles',\n",
    "   plot_width=950, \n",
    "   plot_height=600\n",
    ")\n",
    "\n",
    "# add some renderers\n",
    "p.line(x, x, legend=\"y=x\")\n",
    "p.circle(x, x, legend=\"y=x\", fill_color=\"white\", size=8)\n",
    "p.line(x, y0, legend=\"y=x^2\", line_width=3)\n",
    "p.line(x, y1, legend=\"y=10^x\", line_color=\"red\")\n",
    "p.circle(x, y1, legend=\"y=10^x\", fill_color=\"red\", line_color=\"red\", size=6)\n",
    "p.line(x, y2, legend=\"y=10^x^2\", line_color=\"orange\", line_dash=\"4 4\")\n",
    "\n",
    "# show the results\n",
    "show(p)"
   ]
  },
  {
   "cell_type": "markdown",
   "metadata": {},
   "source": [
    "### Datetime Axes and Bokeh Sample Data"
   ]
  },
  {
   "cell_type": "markdown",
   "metadata": {},
   "source": [
    "To execute the following code cell, you need to install the Bokeh sample data. To do this, open a terminal and start a python session by executing `python`. Then, execute `import bokeh` followed by `bokeh.sampledata.download()`."
   ]
  },
  {
   "cell_type": "code",
   "execution_count": null,
   "metadata": {
    "collapsed": false,
    "scrolled": false
   },
   "outputs": [],
   "source": [
    "import numpy as np\n",
    "\n",
    "from bokeh.plotting import figure, output_notebook, show\n",
    "\n",
    "from bokeh.sampledata.stocks import AAPL\n",
    "\n",
    "# Specifying that we want the plot to be displayed within the notebook\n",
    "output_notebook(hide_banner=True)\n",
    "\n",
    "# prepare some data\n",
    "aapl = np.array(AAPL['adj_close'])\n",
    "aapl_dates = np.array(AAPL['date'], dtype=np.datetime64)\n",
    "\n",
    "window_size = 30\n",
    "window = np.ones(window_size)/float(window_size)\n",
    "aapl_avg = np.convolve(aapl, window, 'same')\n",
    "\n",
    "# create a new plot with a a datetime axis type\n",
    "p = figure(width=950, height=450, x_axis_type=\"datetime\")\n",
    "\n",
    "# add renderers\n",
    "p.circle(aapl_dates, aapl, size=4, color='darkgrey', alpha=0.2, legend='close')\n",
    "p.line(aapl_dates, aapl_avg, color='navy', legend='avg')\n",
    "\n",
    "# NEW: customize by setting attributes\n",
    "p.title = \"AAPL One-Month Average\"\n",
    "p.legend.orientation = \"top_left\"\n",
    "p.grid.grid_line_alpha=0\n",
    "p.xaxis.axis_label = 'Date'\n",
    "p.yaxis.axis_label = 'Price'\n",
    "p.ygrid.band_fill_color=\"olive\"\n",
    "p.ygrid.band_fill_alpha = 0.1\n",
    "\n",
    "# show the results\n",
    "show(p)"
   ]
  },
  {
   "cell_type": "markdown",
   "metadata": {},
   "source": [
    "# Interactive Example - <a href=http://nbviewer.ipython.org/github/jjhelmus/ipython/blob/2.x/examples/Interactive%20Widgets/Lorenz%20Differential%20Equations.ipynb>Exploring the Lorenz System of Differential Equations</a>"
   ]
  },
  {
   "cell_type": "markdown",
   "metadata": {},
   "source": [
    "Here, we will explore the Lorenz system of differential equations:\n",
    "\n",
    "$$\n",
    "\\begin{aligned}\n",
    "\\dot{x} & = \\sigma(y-x) \\\\\n",
    "\\dot{y} & = \\rho x - y - xz \\\\\n",
    "\\dot{z} & = -\\beta z + xy\n",
    "\\end{aligned}\n",
    "$$\n",
    "\n",
    "This is one of the classic systems in non-linear differential equations. It exhibits a range of different behaviors as the parameters ($\\sigma$, $\\beta$, $\\rho$) are varied."
   ]
  },
  {
   "cell_type": "markdown",
   "metadata": {
    "collapsed": false
   },
   "source": [
    "### Imports\n",
    "\n",
    "First, we import the needed things from IPython, NumPy, Matplotlib and SciPy."
   ]
  },
  {
   "cell_type": "code",
   "execution_count": null,
   "metadata": {
    "collapsed": true
   },
   "outputs": [],
   "source": [
    "%matplotlib inline"
   ]
  },
  {
   "cell_type": "code",
   "execution_count": null,
   "metadata": {
    "collapsed": true
   },
   "outputs": [],
   "source": [
    "from ipywidgets import interact, interactive\n",
    "from IPython.display import clear_output, display, HTML"
   ]
  },
  {
   "cell_type": "code",
   "execution_count": null,
   "metadata": {
    "collapsed": true
   },
   "outputs": [],
   "source": [
    "import numpy as np\n",
    "from scipy import integrate\n",
    "\n",
    "from matplotlib import pyplot as plt\n",
    "from mpl_toolkits.mplot3d import Axes3D\n",
    "from matplotlib.colors import cnames\n",
    "from matplotlib import animation"
   ]
  },
  {
   "cell_type": "markdown",
   "metadata": {},
   "source": [
    "### Computing the trajectories and plotting the result\n",
    "\n",
    "We define a function that can integrate the differential equations numerically and then plot the solutions. This function has arguments that control the parameters of the differential equation ($\\sigma$, $\\beta$, $\\rho$), the numerical integration (`N`, `max_time`) and the visualization (`angle`)."
   ]
  },
  {
   "cell_type": "code",
   "execution_count": null,
   "metadata": {
    "collapsed": false
   },
   "outputs": [],
   "source": [
    "def solve_lorenz(N=10, angle=0.0, max_time=4.0, sigma=10.0, beta=8./3, rho=28.0):\n",
    "\n",
    "    fig = plt.figure()\n",
    "    ax = fig.add_axes([0, 0, 1, 1], projection='3d')\n",
    "    ax.axis('off')\n",
    "\n",
    "    # prepare the axes limits\n",
    "    ax.set_xlim((-25, 25))\n",
    "    ax.set_ylim((-35, 35))\n",
    "    ax.set_zlim((5, 55))\n",
    "\n",
    "    def lorenz_deriv(space, t0, sigma=sigma, beta=beta, rho=rho):\n",
    "        \"\"\"Compute the time-derivative of a Lorentz system.\"\"\"\n",
    "        (x, y, z) = space\n",
    "        return [sigma * (y - x), x * (rho - z) - y, x * y - beta * z]\n",
    "\n",
    "    # Choose random starting points, uniformly distributed from -15 to 15\n",
    "    np.random.seed(1)\n",
    "    x0 = -15 + 30 * np.random.random((N, 3))\n",
    "\n",
    "    # Solve for the trajectories\n",
    "    t = np.linspace(0, max_time, int(250*max_time))\n",
    "    x_t = np.asarray([integrate.odeint(lorenz_deriv, x0i, t)\n",
    "                      for x0i in x0])\n",
    "    \n",
    "    # choose a different color for each trajectory\n",
    "    colors = plt.cm.jet(np.linspace(0, 1, N))\n",
    "\n",
    "    for i in range(N):\n",
    "        x, y, z = x_t[i,:,:].T\n",
    "        lines = ax.plot(x, y, z, '-', c=colors[i])\n",
    "        plt.setp(lines, linewidth=2)\n",
    "\n",
    "    ax.view_init(30, angle)\n",
    "    plt.show()\n",
    "\n",
    "    return t, x_t"
   ]
  },
  {
   "cell_type": "markdown",
   "metadata": {},
   "source": [
    "Using IPython's `interactive` function, we can explore how the trajectories behave as we change the various parameters. The object returned by `interactive` is a `Widget` object and it has attributes that contain the current result and arguments:"
   ]
  },
  {
   "cell_type": "code",
   "execution_count": null,
   "metadata": {
    "collapsed": false
   },
   "outputs": [],
   "source": [
    "w = interactive(solve_lorenz, max_time=(0,12), angle=(0.,360.), N=(0,50), sigma=(0.0,50.0), rho=(0.0,50.0))\n",
    "display(w)"
   ]
  },
  {
   "cell_type": "markdown",
   "metadata": {},
   "source": [
    "# Now, let's have some fun - <a herf=http://nbviewer.ipython.org/url/jakevdp.github.com/downloads/notebooks/XKCD_plots.ipynb>XKCD style plots with Matplotlib</a>\n",
    "\n"
   ]
  },
  {
   "cell_type": "markdown",
   "metadata": {},
   "source": [
    "### The Code: XKCDify\n",
    "\n",
    "XKCDify will take a matplotlib ``Axes`` instance, and modify the plot elements in-place to make\n",
    "them look hand-drawn.\n",
    "First off, we'll need to make sure we have the Humor Sans font.\n",
    "It can be downloaded using the command below.\n",
    "\n",
    "Next we'll create a function ``xkcd_line`` to add jitter to lines.  We want this to be very general, so\n",
    "we'll normalize the size of the lines, and use a low-pass filter to add correlated noise, perpendicular\n",
    "to the direction of the line.  There are a few parameters for this filter that can be tweaked to\n",
    "customize the appearance of the jitter.\n",
    "\n",
    "Finally, we'll create a function which accepts a matplotlib axis, and calls ``xkcd_line`` on\n",
    "all lines in the axis.  Additionally, we'll switch the font of all text in the axes, and add\n",
    "some background lines for a nice effect where lines cross.  We'll also draw axes, and move the\n",
    "axes labels and titles to the appropriate location."
   ]
  },
  {
   "cell_type": "code",
   "execution_count": null,
   "metadata": {
    "collapsed": false
   },
   "outputs": [],
   "source": [
    "\"\"\"\n",
    "XKCD plot generator\n",
    "-------------------\n",
    "Author: Jake Vanderplas\n",
    "\n",
    "This is a script that will take any matplotlib line diagram, and convert it\n",
    "to an XKCD-style plot.  It will work for plots with line & text elements,\n",
    "including axes labels and titles (but not axes tick labels).\n",
    "\n",
    "The idea for this comes from work by Damon McDougall\n",
    "  http://www.mail-archive.com/matplotlib-users@lists.sourceforge.net/msg25499.html\n",
    "\"\"\"\n",
    "from IPython.display import Image\n",
    "import numpy as np\n",
    "import pylab as pl\n",
    "from scipy import interpolate, signal\n",
    "import matplotlib.font_manager as fm\n",
    "\n",
    "\n",
    "# We need a special font for the code below.  It can be downloaded this way:\n",
    "import os\n",
    "import urllib.request, urllib.error, urllib.parse\n",
    "if not os.path.exists('Humor-Sans.ttf'):\n",
    "    fhandle = urllib.request.urlopen('http://antiyawn.com/uploads/Humor-Sans-1.0.ttf')\n",
    "    open('Humor-Sans.ttf', 'wb').write(fhandle.read())\n",
    "\n",
    "    \n",
    "def xkcd_line(x, y, xlim=None, ylim=None,\n",
    "              mag=1.0, f1=30, f2=0.05, f3=15):\n",
    "    \"\"\"\n",
    "    Mimic a hand-drawn line from (x, y) data\n",
    "\n",
    "    Parameters\n",
    "    ----------\n",
    "    x, y : array_like\n",
    "        arrays to be modified\n",
    "    xlim, ylim : data range\n",
    "        the assumed plot range for the modification.  If not specified,\n",
    "        they will be guessed from the  data\n",
    "    mag : float\n",
    "        magnitude of distortions\n",
    "    f1, f2, f3 : int, float, int\n",
    "        filtering parameters.  f1 gives the size of the window, f2 gives\n",
    "        the high-frequency cutoff, f3 gives the size of the filter\n",
    "    \n",
    "    Returns\n",
    "    -------\n",
    "    x, y : ndarrays\n",
    "        The modified lines\n",
    "    \"\"\"\n",
    "    x = np.asarray(x)\n",
    "    y = np.asarray(y)\n",
    "    \n",
    "    # get limits for rescaling\n",
    "    if xlim is None:\n",
    "        xlim = (x.min(), x.max())\n",
    "    if ylim is None:\n",
    "        ylim = (y.min(), y.max())\n",
    "\n",
    "    if xlim[1] == xlim[0]:\n",
    "        xlim = ylim\n",
    "        \n",
    "    if ylim[1] == ylim[0]:\n",
    "        ylim = xlim\n",
    "\n",
    "    # scale the data\n",
    "    x_scaled = (x - xlim[0]) * 1. / (xlim[1] - xlim[0])\n",
    "    y_scaled = (y - ylim[0]) * 1. / (ylim[1] - ylim[0])\n",
    "\n",
    "    # compute the total distance along the path\n",
    "    dx = x_scaled[1:] - x_scaled[:-1]\n",
    "    dy = y_scaled[1:] - y_scaled[:-1]\n",
    "    dist_tot = np.sum(np.sqrt(dx * dx + dy * dy))\n",
    "\n",
    "    # number of interpolated points is proportional to the distance\n",
    "    Nu = int(200 * dist_tot)\n",
    "    u = np.arange(-1, Nu + 1) * 1. / (Nu - 1)\n",
    "\n",
    "    # interpolate curve at sampled points\n",
    "    k = min(3, len(x) - 1)\n",
    "    res = interpolate.splprep([x_scaled, y_scaled], s=0, k=k)\n",
    "    x_int, y_int = interpolate.splev(u, res[0]) \n",
    "\n",
    "    # we'll perturb perpendicular to the drawn line\n",
    "    dx = x_int[2:] - x_int[:-2]\n",
    "    dy = y_int[2:] - y_int[:-2]\n",
    "    dist = np.sqrt(dx * dx + dy * dy)\n",
    "\n",
    "    # create a filtered perturbation\n",
    "    coeffs = mag * np.random.normal(0, 0.01, len(x_int) - 2)\n",
    "    b = signal.firwin(f1, f2 * dist_tot, window=('kaiser', f3))\n",
    "    response = signal.lfilter(b, 1, coeffs)\n",
    "\n",
    "    x_int[1:-1] += response * dy / dist\n",
    "    y_int[1:-1] += response * dx / dist\n",
    "\n",
    "    # un-scale data\n",
    "    x_int = x_int[1:-1] * (xlim[1] - xlim[0]) + xlim[0]\n",
    "    y_int = y_int[1:-1] * (ylim[1] - ylim[0]) + ylim[0]\n",
    "    \n",
    "    return x_int, y_int\n",
    "\n",
    "\n",
    "def XKCDify(ax, mag=1.0,\n",
    "            f1=50, f2=0.01, f3=15,\n",
    "            bgcolor='w',\n",
    "            xaxis_loc=None,\n",
    "            yaxis_loc=None,\n",
    "            xaxis_arrow='+',\n",
    "            yaxis_arrow='+',\n",
    "            ax_extend=0.1,\n",
    "            expand_axes=False):\n",
    "    \"\"\"Make axis look hand-drawn\n",
    "\n",
    "    This adjusts all lines, text, legends, and axes in the figure to look\n",
    "    like xkcd plots.  Other plot elements are not modified.\n",
    "    \n",
    "    Parameters\n",
    "    ----------\n",
    "    ax : Axes instance\n",
    "        the axes to be modified.\n",
    "    mag : float\n",
    "        the magnitude of the distortion\n",
    "    f1, f2, f3 : int, float, int\n",
    "        filtering parameters.  f1 gives the size of the window, f2 gives\n",
    "        the high-frequency cutoff, f3 gives the size of the filter\n",
    "    xaxis_loc, yaxis_log : float\n",
    "        The locations to draw the x and y axes.  If not specified, they\n",
    "        will be drawn from the bottom left of the plot\n",
    "    xaxis_arrow, yaxis_arrow : str\n",
    "        where to draw arrows on the x/y axes.  Options are '+', '-', '+-', or ''\n",
    "    ax_extend : float\n",
    "        How far (fractionally) to extend the drawn axes beyond the original\n",
    "        axes limits\n",
    "    expand_axes : bool\n",
    "        if True, then expand axes to fill the figure (useful if there is only\n",
    "        a single axes in the figure)\n",
    "    \"\"\"\n",
    "    # Get axes aspect\n",
    "    ext = ax.get_window_extent().extents\n",
    "    aspect = (ext[3] - ext[1]) / (ext[2] - ext[0])\n",
    "\n",
    "    xlim = ax.get_xlim()\n",
    "    ylim = ax.get_ylim()\n",
    "\n",
    "    xspan = xlim[1] - xlim[0]\n",
    "    yspan = ylim[1] - xlim[0]\n",
    "\n",
    "    xax_lim = (xlim[0] - ax_extend * xspan,\n",
    "               xlim[1] + ax_extend * xspan)\n",
    "    yax_lim = (ylim[0] - ax_extend * yspan,\n",
    "               ylim[1] + ax_extend * yspan)\n",
    "\n",
    "    if xaxis_loc is None:\n",
    "        xaxis_loc = ylim[0]\n",
    "\n",
    "    if yaxis_loc is None:\n",
    "        yaxis_loc = xlim[0]\n",
    "\n",
    "    # Draw axes\n",
    "    xaxis = pl.Line2D([xax_lim[0], xax_lim[1]], [xaxis_loc, xaxis_loc],\n",
    "                      linestyle='-', color='k')\n",
    "    yaxis = pl.Line2D([yaxis_loc, yaxis_loc], [yax_lim[0], yax_lim[1]],\n",
    "                      linestyle='-', color='k')\n",
    "\n",
    "    # Label axes3, 0.5, 'hello', fontsize=14)\n",
    "    ax.text(xax_lim[1], xaxis_loc - 0.02 * yspan, ax.get_xlabel(),\n",
    "            fontsize=14, ha='right', va='top', rotation=12)\n",
    "    ax.text(yaxis_loc - 0.02 * xspan, yax_lim[1], ax.get_ylabel(),\n",
    "            fontsize=14, ha='right', va='top', rotation=78)\n",
    "    ax.set_xlabel('')\n",
    "    ax.set_ylabel('')\n",
    "\n",
    "    # Add title\n",
    "    ax.text(0.5 * (xax_lim[1] + xax_lim[0]), yax_lim[1],\n",
    "            ax.get_title(),\n",
    "            ha='center', va='bottom', fontsize=16)\n",
    "    ax.set_title('')\n",
    "\n",
    "    Nlines = len(ax.lines)\n",
    "    lines = [xaxis, yaxis] + [ax.lines.pop(0) for i in range(Nlines)]\n",
    "\n",
    "    for line in lines:\n",
    "        x, y = line.get_data()\n",
    "\n",
    "        x_int, y_int = xkcd_line(x, y, xlim, ylim,\n",
    "                                 mag, f1, f2, f3)\n",
    "\n",
    "        # create foreground and background line\n",
    "        lw = line.get_linewidth()\n",
    "        line.set_linewidth(2 * lw)\n",
    "        line.set_data(x_int, y_int)\n",
    "\n",
    "        # don't add background line for axes\n",
    "        if (line is not xaxis) and (line is not yaxis):\n",
    "            line_bg = pl.Line2D(x_int, y_int, color=bgcolor,\n",
    "                                linewidth=8 * lw)\n",
    "\n",
    "            ax.add_line(line_bg)\n",
    "        ax.add_line(line)\n",
    "\n",
    "    # Draw arrow-heads at the end of axes lines\n",
    "    arr1 = 0.03 * np.array([-1, 0, -1])\n",
    "    arr2 = 0.02 * np.array([-1, 0, 1])\n",
    "\n",
    "    arr1[::2] += np.random.normal(0, 0.005, 2)\n",
    "    arr2[::2] += np.random.normal(0, 0.005, 2)\n",
    "\n",
    "    x, y = xaxis.get_data()\n",
    "    if '+' in str(xaxis_arrow):\n",
    "        ax.plot(x[-1] + arr1 * xspan * aspect,\n",
    "                y[-1] + arr2 * yspan,\n",
    "                color='k', lw=2)\n",
    "    if '-' in str(xaxis_arrow):\n",
    "        ax.plot(x[0] - arr1 * xspan * aspect,\n",
    "                y[0] - arr2 * yspan,\n",
    "                color='k', lw=2)\n",
    "\n",
    "    x, y = yaxis.get_data()\n",
    "    if '+' in str(yaxis_arrow):\n",
    "        ax.plot(x[-1] + arr2 * xspan * aspect,\n",
    "                y[-1] + arr1 * yspan,\n",
    "                color='k', lw=2)\n",
    "    if '-' in str(yaxis_arrow):\n",
    "        ax.plot(x[0] - arr2 * xspan * aspect,\n",
    "                y[0] - arr1 * yspan,\n",
    "                color='k', lw=2)\n",
    "\n",
    "    # Change all the fonts to humor-sans.\n",
    "    prop = fm.FontProperties(fname='Humor-Sans.ttf', size=16)\n",
    "    for text in ax.texts:\n",
    "        text.set_fontproperties(prop)\n",
    "    \n",
    "    # modify legend\n",
    "    leg = ax.get_legend()\n",
    "    if leg is not None:\n",
    "        leg.set_frame_on(False)\n",
    "        \n",
    "        for child in leg.get_children():\n",
    "            if isinstance(child, pl.Line2D):\n",
    "                x, y = child.get_data()\n",
    "                child.set_data(xkcd_line(x, y, mag=10, f1=100, f2=0.001))\n",
    "                child.set_linewidth(2 * child.get_linewidth())\n",
    "            if isinstance(child, pl.Text):\n",
    "                child.set_fontproperties(prop)\n",
    "    \n",
    "    # Set the axis limits\n",
    "    ax.set_xlim(xax_lim[0] - 0.1 * xspan,\n",
    "                xax_lim[1] + 0.1 * xspan)\n",
    "    ax.set_ylim(yax_lim[0] - 0.1 * yspan,\n",
    "                yax_lim[1] + 0.1 * yspan)\n",
    "\n",
    "    # adjust the axes\n",
    "    ax.set_xticks([])\n",
    "    ax.set_yticks([])      \n",
    "\n",
    "    if expand_axes:\n",
    "        ax.figure.set_facecolor(bgcolor)\n",
    "        ax.set_axis_off()\n",
    "        ax.set_position([0, 0, 1, 1])\n",
    "    \n",
    "    return ax\n",
    "\n"
   ]
  },
  {
   "cell_type": "markdown",
   "metadata": {},
   "source": [
    "### Testing it Out"
   ]
  },
  {
   "cell_type": "markdown",
   "metadata": {},
   "source": [
    "Let's test this out with a simple plot.  We'll plot two curves, add some labels,\n",
    "and then call ``XKCDify`` on the axis."
   ]
  },
  {
   "cell_type": "code",
   "execution_count": null,
   "metadata": {
    "collapsed": false
   },
   "outputs": [],
   "source": [
    "%pylab inline"
   ]
  },
  {
   "cell_type": "code",
   "execution_count": null,
   "metadata": {
    "collapsed": false
   },
   "outputs": [],
   "source": [
    "np.random.seed(0)\n",
    "\n",
    "ax = pylab.axes()\n",
    "\n",
    "x = np.linspace(0, 10, 100)\n",
    "ax.plot(x, np.sin(x) * np.exp(-0.1 * (x - 5) ** 2), 'b', lw=1, label='damped sine')\n",
    "ax.plot(x, -np.cos(x) * np.exp(-0.1 * (x - 5) ** 2), 'r', lw=1, label='damped cosine')\n",
    "\n",
    "ax.set_title('check it out!')\n",
    "ax.set_xlabel('x label')\n",
    "ax.set_ylabel('y label')\n",
    "\n",
    "ax.legend(loc='lower right')\n",
    "\n",
    "ax.set_xlim(0, 10)\n",
    "ax.set_ylim(-1.0, 1.0)\n",
    "\n",
    "#XKCDify the axes -- this operates in-place\n",
    "XKCDify(ax, xaxis_loc=0.0, yaxis_loc=1.0,\n",
    "        xaxis_arrow='+-', yaxis_arrow='+-',\n",
    "        expand_axes=True)"
   ]
  },
  {
   "cell_type": "markdown",
   "metadata": {},
   "source": [
    "### Duplicating an XKCD Comic"
   ]
  },
  {
   "cell_type": "markdown",
   "metadata": {},
   "source": [
    "Now let's see if we can use this to replicated an XKCD comic in matplotlib. This is a good one:"
   ]
  },
  {
   "cell_type": "code",
   "execution_count": null,
   "metadata": {
    "collapsed": false
   },
   "outputs": [],
   "source": [
    "Image('http://imgs.xkcd.com/comics/front_door.png')"
   ]
  },
  {
   "cell_type": "markdown",
   "metadata": {},
   "source": [
    "With the new XKCDify function, this is relatively easy to replicate. The results are not exactly identical, but I think it definitely gets the point across!"
   ]
  },
  {
   "cell_type": "code",
   "execution_count": null,
   "metadata": {
    "collapsed": false
   },
   "outputs": [],
   "source": [
    "# Some helper functions\n",
    "def norm(x, x0, sigma):\n",
    "    return np.exp(-0.5 * (x - x0) ** 2 / sigma ** 2)\n",
    "\n",
    "def sigmoid(x, x0, alpha):\n",
    "    return 1. / (1. + np.exp(- (x - x0) / alpha))\n",
    "    \n",
    "# define the curves\n",
    "x = np.linspace(0, 1, 100)\n",
    "y1 = np.sqrt(norm(x, 0.7, 0.05)) + 0.2 * (1.5 - sigmoid(x, 0.8, 0.05))\n",
    "\n",
    "y2 = 0.2 * norm(x, 0.5, 0.2) + np.sqrt(norm(x, 0.6, 0.05)) + 0.1 * (1 - sigmoid(x, 0.75, 0.05))\n",
    "\n",
    "y3 = 0.05 + 1.4 * norm(x, 0.85, 0.08)\n",
    "y3[x > 0.85] = 0.05 + 1.4 * norm(x[x > 0.85], 0.85, 0.3)\n",
    "\n",
    "# draw the curves\n",
    "ax = pl.axes()\n",
    "ax.plot(x, y1, c='gray')\n",
    "ax.plot(x, y2, c='blue')\n",
    "ax.plot(x, y3, c='red')\n",
    "\n",
    "ax.text(0.3, -0.1, \"Yard\")\n",
    "ax.text(0.5, -0.1, \"Steps\")\n",
    "ax.text(0.7, -0.1, \"Door\")\n",
    "ax.text(0.9, -0.1, \"Inside\")\n",
    "\n",
    "ax.text(0.05, 1.1, \"fear that\\nthere's\\nsomething\\nbehind me\")\n",
    "ax.plot([0.15, 0.2], [1.0, 0.2], '-k', lw=0.5)\n",
    "\n",
    "ax.text(0.25, 0.8, \"forward\\nspeed\")\n",
    "ax.plot([0.32, 0.35], [0.75, 0.35], '-k', lw=0.5)\n",
    "\n",
    "ax.text(0.9, 0.4, \"embarrassment\")\n",
    "ax.plot([1.0, 0.8], [0.55, 1.05], '-k', lw=0.5)\n",
    "\n",
    "ax.set_title(\"Walking back to my\\nfront door at night:\")\n",
    "\n",
    "ax.set_xlim(0, 1)\n",
    "ax.set_ylim(0, 1.5)\n",
    "\n",
    "# modify all the axes elements in-place\n",
    "XKCDify(ax, expand_axes=True)"
   ]
  },
  {
   "cell_type": "code",
   "execution_count": null,
   "metadata": {
    "collapsed": true
   },
   "outputs": [],
   "source": []
  }
 ],
 "metadata": {
  "kernelspec": {
   "display_name": "Python 3",
   "language": "python",
   "name": "python3"
  },
  "language_info": {
   "codemirror_mode": {
    "name": "ipython",
    "version": 3
   },
   "file_extension": ".py",
   "mimetype": "text/x-python",
   "name": "python",
   "nbconvert_exporter": "python",
   "pygments_lexer": "ipython3",
   "version": "3.5.0"
  }
 },
 "nbformat": 4,
 "nbformat_minor": 0
}
